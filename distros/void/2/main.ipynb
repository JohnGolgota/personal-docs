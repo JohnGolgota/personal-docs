{
 "cells": [
  {
   "cell_type": "code",
   "execution_count": null,
   "id": "6b52a03b",
   "metadata": {},
   "outputs": [],
   "source": [
    "import pytomlpp\n",
    "import json\n",
    "import pprint"
   ]
  },
  {
   "cell_type": "code",
   "execution_count": null,
   "id": "e95f7312",
   "metadata": {},
   "outputs": [],
   "source": [
    "\n",
    "with open(\"main.toml\") as f:\n",
    "    main = pytomlpp.load(f)\n",
    "\n",
    "main"
   ]
  },
  {
   "cell_type": "code",
   "execution_count": null,
   "id": "27b66797",
   "metadata": {},
   "outputs": [],
   "source": [
    "def distro_image_and_iso(distro):\n",
    "    distro_image = main[\"images\"] + \"/\" + distro[\"image\"]\n",
    "    distro_iso = main[\"isos\"] + \"/\" + distro[\"iso\"]\n",
    "    return {\"distro_image\": distro_image, \"distro_iso\": distro_iso}"
   ]
  },
  {
   "cell_type": "code",
   "execution_count": null,
   "id": "fe9a9595",
   "metadata": {},
   "outputs": [],
   "source": [
    "iso_and_image = distro_image_and_iso(main[\"distros\"][\"garuda\"])\n",
    "iso = iso_and_image[\"distro_iso\"]\n",
    "image = iso_and_image[\"distro_image\"]\n",
    "\n",
    "mirave = \"\"\"\n",
    "{}\n",
    "{}\n",
    "\"\"\"\n",
    "print(mirave.format(iso,image))"
   ]
  },
  {
   "cell_type": "code",
   "execution_count": null,
   "id": "526a733f",
   "metadata": {},
   "outputs": [],
   "source": [
    "init = \"\"\"\n",
    "#!/bin/bash\n",
    "\n",
    "qemu-system-x86_64 \\\\\n",
    "        -enable-kvm \\\\\n",
    "        -m 2048 \\\\\n",
    "        -cpu host \\\\\n",
    "        -smp 2 \\\\\n",
    "        -drive file={} \\\\\n",
    "        -vnc :1\n",
    "\n",
    "\"\"\"\n",
    "print(init.format(image))"
   ]
  },
  {
   "cell_type": "code",
   "execution_count": null,
   "id": "c742f3cd",
   "metadata": {},
   "outputs": [],
   "source": [
    "cdrom = \"\"\"\n",
    "#!/bin/bash\n",
    "\n",
    "qemu-system-x86_64 \\\\\n",
    "        -enable-kvm \\\\\n",
    "        -m 2048 \\\\\n",
    "        -cpu host \\\\\n",
    "        -smp 2 \\\\\n",
    "        -drive file={},format=qcow2 \\\\\n",
    "        -cdrom {} \\\\\n",
    "        -boot d \\\\\n",
    "        -vnc :1\n",
    "\n",
    "\"\"\"\n",
    "print(cdrom.format(image, iso))"
   ]
  }
 ],
 "metadata": {
  "kernelspec": {
   "display_name": ".venv",
   "language": "python",
   "name": "python3"
  },
  "language_info": {
   "codemirror_mode": {
    "name": "ipython",
    "version": 3
   },
   "file_extension": ".py",
   "mimetype": "text/x-python",
   "name": "python",
   "nbconvert_exporter": "python",
   "pygments_lexer": "ipython3",
   "version": "3.13.1"
  }
 },
 "nbformat": 4,
 "nbformat_minor": 5
}
