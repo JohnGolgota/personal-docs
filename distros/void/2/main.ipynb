{
 "cells": [
  {
   "cell_type": "code",
   "execution_count": 9,
   "id": "6b52a03b",
   "metadata": {},
   "outputs": [
    {
     "data": {
      "text/plain": [
       "{'Description': 'Quiero esto como mi laboratorio y playground de linux, voy a usar maquinas virtuales para probar diferentes distribuciones de linux.\\n',\n",
       " 'distros': {'arch_6': {'DE': 'no',\n",
       "   'image': 'arch6.img',\n",
       "   'iso': 'archlinux-x86_64.iso',\n",
       "   'name': 'arch_6',\n",
       "   'status': 'pending'},\n",
       "  'debian_1': {'DE': 'no', 'name': 'debian_1', 'status': 'pending'},\n",
       "  'fedora_1': {'DE': 'no', 'name': 'fedora_1', 'status': 'pending'},\n",
       "  'nixos_2': {'DE': 'no', 'name': 'nixos_2', 'status': 'pending'},\n",
       "  'ubuntu_1': {'DE': 'no', 'name': 'ubuntu_1', 'status': 'pending'},\n",
       "  'void_3': {'DE': 'xfce',\n",
       "   'image': 'void3.img',\n",
       "   'iso': 'void-live-x86_64-20250202-xfce.iso',\n",
       "   'name': 'void_3',\n",
       "   'status': 'pending'},\n",
       "  'void_4': {'DE': 'no', 'name': 'void_4', 'status': 'pending'}},\n",
       " 'images': '~/libvirt/images',\n",
       " 'isos': '~/libvirt/isos',\n",
       " 'name': 'void-2',\n",
       " 'virtualization_engine': 'kvm'}"
      ]
     },
     "execution_count": 9,
     "metadata": {},
     "output_type": "execute_result"
    }
   ],
   "source": [
    "import pytomlpp\n",
    "\n",
    "with open(\"main.toml\") as f:\n",
    "    main = pytomlpp.load(f)\n",
    "\n",
    "main"
   ]
  },
  {
   "cell_type": "code",
   "execution_count": 5,
   "id": "27b66797",
   "metadata": {},
   "outputs": [
    {
     "data": {
      "text/plain": [
       "{'distro_image': '~/libvirt/images/void3.img',\n",
       " 'distro_iso': '~/libvirt/isos/void-live-x86_64-20250202-xfce.iso'}"
      ]
     },
     "execution_count": 5,
     "metadata": {},
     "output_type": "execute_result"
    }
   ],
   "source": [
    "def distro_image_and_iso(distro):\n",
    "    distro_image = main[\"images\"] + \"/\" + distro[\"image\"]\n",
    "    distro_iso = main[\"isos\"] + \"/\" + distro[\"iso\"]\n",
    "    return {\"distro_image\": distro_image, \"distro_iso\": distro_iso}\n",
    "\n",
    "iso_and_image = distro_image_and_iso(main[\"distros\"][\"void_3\"])\n",
    "iso_and_image"
   ]
  },
  {
   "cell_type": "code",
   "execution_count": 8,
   "id": "526a733f",
   "metadata": {},
   "outputs": [
    {
     "name": "stdout",
     "output_type": "stream",
     "text": [
      "~/libvirt/images/void3.img\n",
      "~/libvirt/isos/void-live-x86_64-20250202-xfce.iso\n"
     ]
    }
   ],
   "source": [
    "print(iso_and_image[\"distro_image\"])\n",
    "print(iso_and_image['distro_iso'])"
   ]
  }
 ],
 "metadata": {
  "kernelspec": {
   "display_name": ".venv (3.13.1)",
   "language": "python",
   "name": "python3"
  },
  "language_info": {
   "codemirror_mode": {
    "name": "ipython",
    "version": 3
   },
   "file_extension": ".py",
   "mimetype": "text/x-python",
   "name": "python",
   "nbconvert_exporter": "python",
   "pygments_lexer": "ipython3",
   "version": "3.13.1"
  }
 },
 "nbformat": 4,
 "nbformat_minor": 5
}
